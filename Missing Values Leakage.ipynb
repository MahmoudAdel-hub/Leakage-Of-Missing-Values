{
 "cells": [
  {
   "cell_type": "code",
   "execution_count": 1,
   "id": "8f8f6a83",
   "metadata": {},
   "outputs": [],
   "source": [
    "import warnings\n",
    "import pandas as pd\n",
    "import numpy as np\n",
    "from sklearn.impute import SimpleImputer\n",
    "from sklearn.model_selection import train_test_split\n",
    "from sklearn.model_selection import KFold\n",
    "from sklearn.model_selection import cross_val_score\n",
    "from sklearn.linear_model import LogisticRegression\n",
    "from sklearn.preprocessing import OneHotEncoder\n",
    "import re\n",
    "\n",
    "warnings.filterwarnings('ignore')"
   ]
  },
  {
   "cell_type": "code",
   "execution_count": 2,
   "id": "1ec74191",
   "metadata": {},
   "outputs": [],
   "source": [
    "df=pd.read_csv(r'C:\\Users\\HP\\Desktop\\Multicollinearity-main\\data\\fraud_dataset.csv')"
   ]
  },
  {
   "cell_type": "code",
   "execution_count": 3,
   "id": "8bf265a1",
   "metadata": {},
   "outputs": [],
   "source": [
    "df.drop(columns='Unnamed: 0',inplace=True)"
   ]
  },
  {
   "cell_type": "code",
   "execution_count": 4,
   "id": "a36325bd",
   "metadata": {},
   "outputs": [
    {
     "data": {
      "text/plain": [
       "transaction_id     0\n",
       "duration          10\n",
       "day                0\n",
       "fraud              0\n",
       "dtype: int64"
      ]
     },
     "execution_count": 4,
     "metadata": {},
     "output_type": "execute_result"
    }
   ],
   "source": [
    "df.isnull().sum()"
   ]
  },
  {
   "cell_type": "markdown",
   "id": "2e4870c4",
   "metadata": {},
   "source": [
    "One common mistake people make when dealing with missing values in their dataset is filling in the missing values for the entire dataset. This can lead to data leakage when using simple, interpolation, or bootstrapping methods to fill in missing values. These methods may take values from the test or cross-validation datasets, which can result in leaking data from these sets. To avoid this, it's important to only fill in missing values using information from the training set.\n",
    "\n",
    "lets do some code"
   ]
  },
  {
   "cell_type": "markdown",
   "id": "26fdef00",
   "metadata": {},
   "source": [
    "# The Wrong Way\n",
    "\n",
    "# we fill with simple method ( \" mean \" )"
   ]
  },
  {
   "cell_type": "code",
   "execution_count": 5,
   "id": "eb98eb0b",
   "metadata": {},
   "outputs": [],
   "source": [
    "SI=SimpleImputer(strategy='mean')\n",
    "df['duration']=SI.fit_transform(df[['duration']])"
   ]
  },
  {
   "cell_type": "code",
   "execution_count": 6,
   "id": "72a969ec",
   "metadata": {},
   "outputs": [
    {
     "data": {
      "text/plain": [
       "transaction_id    0\n",
       "duration          0\n",
       "day               0\n",
       "fraud             0\n",
       "dtype: int64"
      ]
     },
     "execution_count": 6,
     "metadata": {},
     "output_type": "execute_result"
    }
   ],
   "source": [
    "df.isnull().sum()"
   ]
  },
  {
   "cell_type": "markdown",
   "id": "a258be50",
   "metadata": {},
   "source": [
    "## ML Model"
   ]
  },
  {
   "cell_type": "code",
   "execution_count": 7,
   "id": "fc9d5c33",
   "metadata": {},
   "outputs": [],
   "source": [
    "df['fraud'].replace([True,False],[1,0],inplace=True)\n",
    "df['weekend']=pd.get_dummies(df['day'],drop_first=True)\n",
    "df.drop(columns=['day','transaction_id'],inplace=True)"
   ]
  },
  {
   "cell_type": "code",
   "execution_count": 8,
   "id": "36ca5d0c",
   "metadata": {},
   "outputs": [],
   "source": [
    "X=df.drop(columns=['fraud'])\n",
    "y=df['fraud']"
   ]
  },
  {
   "cell_type": "code",
   "execution_count": 9,
   "id": "6451a890",
   "metadata": {},
   "outputs": [],
   "source": [
    "X_train,X_test,y_train,y_test=train_test_split(X,y,random_state=0)"
   ]
  },
  {
   "cell_type": "code",
   "execution_count": 10,
   "id": "59d6493b",
   "metadata": {},
   "outputs": [],
   "source": [
    "model=LogisticRegression()"
   ]
  },
  {
   "cell_type": "code",
   "execution_count": 11,
   "id": "7c203ed4",
   "metadata": {},
   "outputs": [
    {
     "data": {
      "text/html": [
       "<style>#sk-container-id-1 {color: black;background-color: white;}#sk-container-id-1 pre{padding: 0;}#sk-container-id-1 div.sk-toggleable {background-color: white;}#sk-container-id-1 label.sk-toggleable__label {cursor: pointer;display: block;width: 100%;margin-bottom: 0;padding: 0.3em;box-sizing: border-box;text-align: center;}#sk-container-id-1 label.sk-toggleable__label-arrow:before {content: \"▸\";float: left;margin-right: 0.25em;color: #696969;}#sk-container-id-1 label.sk-toggleable__label-arrow:hover:before {color: black;}#sk-container-id-1 div.sk-estimator:hover label.sk-toggleable__label-arrow:before {color: black;}#sk-container-id-1 div.sk-toggleable__content {max-height: 0;max-width: 0;overflow: hidden;text-align: left;background-color: #f0f8ff;}#sk-container-id-1 div.sk-toggleable__content pre {margin: 0.2em;color: black;border-radius: 0.25em;background-color: #f0f8ff;}#sk-container-id-1 input.sk-toggleable__control:checked~div.sk-toggleable__content {max-height: 200px;max-width: 100%;overflow: auto;}#sk-container-id-1 input.sk-toggleable__control:checked~label.sk-toggleable__label-arrow:before {content: \"▾\";}#sk-container-id-1 div.sk-estimator input.sk-toggleable__control:checked~label.sk-toggleable__label {background-color: #d4ebff;}#sk-container-id-1 div.sk-label input.sk-toggleable__control:checked~label.sk-toggleable__label {background-color: #d4ebff;}#sk-container-id-1 input.sk-hidden--visually {border: 0;clip: rect(1px 1px 1px 1px);clip: rect(1px, 1px, 1px, 1px);height: 1px;margin: -1px;overflow: hidden;padding: 0;position: absolute;width: 1px;}#sk-container-id-1 div.sk-estimator {font-family: monospace;background-color: #f0f8ff;border: 1px dotted black;border-radius: 0.25em;box-sizing: border-box;margin-bottom: 0.5em;}#sk-container-id-1 div.sk-estimator:hover {background-color: #d4ebff;}#sk-container-id-1 div.sk-parallel-item::after {content: \"\";width: 100%;border-bottom: 1px solid gray;flex-grow: 1;}#sk-container-id-1 div.sk-label:hover label.sk-toggleable__label {background-color: #d4ebff;}#sk-container-id-1 div.sk-serial::before {content: \"\";position: absolute;border-left: 1px solid gray;box-sizing: border-box;top: 0;bottom: 0;left: 50%;z-index: 0;}#sk-container-id-1 div.sk-serial {display: flex;flex-direction: column;align-items: center;background-color: white;padding-right: 0.2em;padding-left: 0.2em;position: relative;}#sk-container-id-1 div.sk-item {position: relative;z-index: 1;}#sk-container-id-1 div.sk-parallel {display: flex;align-items: stretch;justify-content: center;background-color: white;position: relative;}#sk-container-id-1 div.sk-item::before, #sk-container-id-1 div.sk-parallel-item::before {content: \"\";position: absolute;border-left: 1px solid gray;box-sizing: border-box;top: 0;bottom: 0;left: 50%;z-index: -1;}#sk-container-id-1 div.sk-parallel-item {display: flex;flex-direction: column;z-index: 1;position: relative;background-color: white;}#sk-container-id-1 div.sk-parallel-item:first-child::after {align-self: flex-end;width: 50%;}#sk-container-id-1 div.sk-parallel-item:last-child::after {align-self: flex-start;width: 50%;}#sk-container-id-1 div.sk-parallel-item:only-child::after {width: 0;}#sk-container-id-1 div.sk-dashed-wrapped {border: 1px dashed gray;margin: 0 0.4em 0.5em 0.4em;box-sizing: border-box;padding-bottom: 0.4em;background-color: white;}#sk-container-id-1 div.sk-label label {font-family: monospace;font-weight: bold;display: inline-block;line-height: 1.2em;}#sk-container-id-1 div.sk-label-container {text-align: center;}#sk-container-id-1 div.sk-container {/* jupyter's `normalize.less` sets `[hidden] { display: none; }` but bootstrap.min.css set `[hidden] { display: none !important; }` so we also need the `!important` here to be able to override the default hidden behavior on the sphinx rendered scikit-learn.org. See: https://github.com/scikit-learn/scikit-learn/issues/21755 */display: inline-block !important;position: relative;}#sk-container-id-1 div.sk-text-repr-fallback {display: none;}</style><div id=\"sk-container-id-1\" class=\"sk-top-container\"><div class=\"sk-text-repr-fallback\"><pre>LogisticRegression()</pre><b>In a Jupyter environment, please rerun this cell to show the HTML representation or trust the notebook. <br />On GitHub, the HTML representation is unable to render, please try loading this page with nbviewer.org.</b></div><div class=\"sk-container\" hidden><div class=\"sk-item\"><div class=\"sk-estimator sk-toggleable\"><input class=\"sk-toggleable__control sk-hidden--visually\" id=\"sk-estimator-id-1\" type=\"checkbox\" checked><label for=\"sk-estimator-id-1\" class=\"sk-toggleable__label sk-toggleable__label-arrow\">LogisticRegression</label><div class=\"sk-toggleable__content\"><pre>LogisticRegression()</pre></div></div></div></div></div>"
      ],
      "text/plain": [
       "LogisticRegression()"
      ]
     },
     "execution_count": 11,
     "metadata": {},
     "output_type": "execute_result"
    }
   ],
   "source": [
    "model.fit(X_train,y_train)"
   ]
  },
  {
   "cell_type": "code",
   "execution_count": 12,
   "id": "17ab382f",
   "metadata": {},
   "outputs": [
    {
     "data": {
      "text/plain": [
       "0.9990900818926297"
      ]
     },
     "execution_count": 12,
     "metadata": {},
     "output_type": "execute_result"
    }
   ],
   "source": [
    "model.score(X_train,y_train)"
   ]
  },
  {
   "cell_type": "code",
   "execution_count": 13,
   "id": "8394240f",
   "metadata": {},
   "outputs": [
    {
     "data": {
      "text/plain": [
       "0.9990901048179921"
      ]
     },
     "execution_count": 13,
     "metadata": {},
     "output_type": "execute_result"
    }
   ],
   "source": [
    "np.mean(cross_val_score(model,X_train,y_train,cv=KFold(n_splits=5,random_state=0,shuffle=True)))"
   ]
  },
  {
   "cell_type": "code",
   "execution_count": 14,
   "id": "c9a01e35",
   "metadata": {},
   "outputs": [
    {
     "data": {
      "text/plain": [
       "0.998180991359709"
      ]
     },
     "execution_count": 14,
     "metadata": {},
     "output_type": "execute_result"
    }
   ],
   "source": [
    "model.score(X_test,y_test)"
   ]
  },
  {
   "cell_type": "markdown",
   "id": "d3256fc5",
   "metadata": {},
   "source": [
    "# The Right Way"
   ]
  },
  {
   "cell_type": "code",
   "execution_count": 15,
   "id": "c3541228",
   "metadata": {},
   "outputs": [
    {
     "data": {
      "text/plain": [
       "transaction_id     0\n",
       "duration          10\n",
       "day                0\n",
       "fraud              0\n",
       "dtype: int64"
      ]
     },
     "execution_count": 15,
     "metadata": {},
     "output_type": "execute_result"
    }
   ],
   "source": [
    "df=pd.read_csv(r'C:\\Users\\HP\\Desktop\\Multicollinearity-main\\data\\fraud_dataset.csv')\n",
    "df.drop(columns='Unnamed: 0',inplace=True)\n",
    "df.isnull().sum()"
   ]
  },
  {
   "cell_type": "code",
   "execution_count": 16,
   "id": "a13496d0",
   "metadata": {},
   "outputs": [],
   "source": [
    "X=df.drop(columns=['fraud','transaction_id'])\n",
    "y=df['fraud']"
   ]
  },
  {
   "cell_type": "code",
   "execution_count": 17,
   "id": "972fd900",
   "metadata": {},
   "outputs": [],
   "source": [
    "X_train,X_test,y_train,y_test=train_test_split(X,y,random_state=0)"
   ]
  },
  {
   "cell_type": "code",
   "execution_count": 18,
   "id": "e77ed1da",
   "metadata": {},
   "outputs": [],
   "source": [
    "model=LogisticRegression(max_iter=100)\n",
    "tr_cv=[]\n",
    "SI=SimpleImputer(strategy='mean')\n",
    "OHE=OneHotEncoder(sparse=False,drop='first')\n",
    "for train,cv in KFold(n_splits=5,random_state=0,shuffle=True).split(X_train):\n",
    "    Xtrain,ytrain=X_train.iloc[train],y_train.iloc[train]\n",
    "    Xcv,ycv=X_train.iloc[train],y_train.iloc[train]\n",
    "    Xtr=pd.DataFrame(OHE.fit_transform(Xtrain[['day']]),columns=[re.search(r'(_\\w+)',OHE.get_feature_names_out()[0]).group()[1:]],index=Xtrain.index)\n",
    "    Xtrain=pd.merge(Xtrain,Xtr,left_index=True,right_index=True).drop(columns='day')\n",
    "    Xtrain=SI.fit_transform(Xtrain)\n",
    "    \n",
    "    Xc=pd.DataFrame(OHE.transform(Xcv[['day']]),columns=[re.search(r'(_\\w+)',OHE.get_feature_names_out()[0]).group()[1:]],index=Xcv.index)\n",
    "    Xcv=pd.merge(Xcv,Xc,left_index=True,right_index=True).drop(columns='day')\n",
    "    Xcv=SI.fit_transform(Xcv)\n",
    "\n",
    "    model.fit(Xtrain,ytrain)\n",
    "    tr_cv.append(((model.score(Xtrain,ytrain),model.score(Xcv,ycv))))"
   ]
  },
  {
   "cell_type": "code",
   "execution_count": 19,
   "id": "5a74e073",
   "metadata": {},
   "outputs": [],
   "source": [
    "tr=0\n",
    "cv=0\n",
    "for _ in tr_cv:\n",
    "    tr+=_[0]\n",
    "    cv+=_[1]"
   ]
  },
  {
   "cell_type": "code",
   "execution_count": 20,
   "id": "135114d1",
   "metadata": {},
   "outputs": [
    {
     "data": {
      "text/plain": [
       "(0.9990521686327067, 0.9990521686327067)"
      ]
     },
     "execution_count": 20,
     "metadata": {},
     "output_type": "execute_result"
    }
   ],
   "source": [
    "tr/5,cv/5"
   ]
  },
  {
   "cell_type": "code",
   "execution_count": 21,
   "id": "d8feea91",
   "metadata": {},
   "outputs": [],
   "source": [
    "model=LogisticRegression(max_iter=100)\n",
    "SI=SimpleImputer(strategy='mean')\n",
    "OHE=OneHotEncoder(sparse=False,drop='first')\n",
    "\n",
    "x1=pd.DataFrame(OHE.fit_transform(X_train[['day']]),columns=[re.search(r'(_\\w+)',OHE.get_feature_names_out()[0]).group()[1:]],index=X_train.index)\n",
    "X_train=pd.merge(X_train,x1,left_index=True,right_index=True).drop(columns='day')\n",
    "\n",
    "x2=pd.DataFrame(OHE.fit_transform(X_test[['day']]),columns=[re.search(r'(_\\w+)',OHE.get_feature_names_out()[0]).group()[1:]],index=X_test.index)\n",
    "X_test=pd.merge(X_test,x2,left_index=True,right_index=True).drop(columns='day')\n",
    "\n",
    "X_train = SI.fit_transform(X_train)\n",
    "X_test=SI.transform(X_test)"
   ]
  },
  {
   "cell_type": "code",
   "execution_count": 22,
   "id": "5d5f530c",
   "metadata": {},
   "outputs": [
    {
     "data": {
      "text/html": [
       "<style>#sk-container-id-2 {color: black;background-color: white;}#sk-container-id-2 pre{padding: 0;}#sk-container-id-2 div.sk-toggleable {background-color: white;}#sk-container-id-2 label.sk-toggleable__label {cursor: pointer;display: block;width: 100%;margin-bottom: 0;padding: 0.3em;box-sizing: border-box;text-align: center;}#sk-container-id-2 label.sk-toggleable__label-arrow:before {content: \"▸\";float: left;margin-right: 0.25em;color: #696969;}#sk-container-id-2 label.sk-toggleable__label-arrow:hover:before {color: black;}#sk-container-id-2 div.sk-estimator:hover label.sk-toggleable__label-arrow:before {color: black;}#sk-container-id-2 div.sk-toggleable__content {max-height: 0;max-width: 0;overflow: hidden;text-align: left;background-color: #f0f8ff;}#sk-container-id-2 div.sk-toggleable__content pre {margin: 0.2em;color: black;border-radius: 0.25em;background-color: #f0f8ff;}#sk-container-id-2 input.sk-toggleable__control:checked~div.sk-toggleable__content {max-height: 200px;max-width: 100%;overflow: auto;}#sk-container-id-2 input.sk-toggleable__control:checked~label.sk-toggleable__label-arrow:before {content: \"▾\";}#sk-container-id-2 div.sk-estimator input.sk-toggleable__control:checked~label.sk-toggleable__label {background-color: #d4ebff;}#sk-container-id-2 div.sk-label input.sk-toggleable__control:checked~label.sk-toggleable__label {background-color: #d4ebff;}#sk-container-id-2 input.sk-hidden--visually {border: 0;clip: rect(1px 1px 1px 1px);clip: rect(1px, 1px, 1px, 1px);height: 1px;margin: -1px;overflow: hidden;padding: 0;position: absolute;width: 1px;}#sk-container-id-2 div.sk-estimator {font-family: monospace;background-color: #f0f8ff;border: 1px dotted black;border-radius: 0.25em;box-sizing: border-box;margin-bottom: 0.5em;}#sk-container-id-2 div.sk-estimator:hover {background-color: #d4ebff;}#sk-container-id-2 div.sk-parallel-item::after {content: \"\";width: 100%;border-bottom: 1px solid gray;flex-grow: 1;}#sk-container-id-2 div.sk-label:hover label.sk-toggleable__label {background-color: #d4ebff;}#sk-container-id-2 div.sk-serial::before {content: \"\";position: absolute;border-left: 1px solid gray;box-sizing: border-box;top: 0;bottom: 0;left: 50%;z-index: 0;}#sk-container-id-2 div.sk-serial {display: flex;flex-direction: column;align-items: center;background-color: white;padding-right: 0.2em;padding-left: 0.2em;position: relative;}#sk-container-id-2 div.sk-item {position: relative;z-index: 1;}#sk-container-id-2 div.sk-parallel {display: flex;align-items: stretch;justify-content: center;background-color: white;position: relative;}#sk-container-id-2 div.sk-item::before, #sk-container-id-2 div.sk-parallel-item::before {content: \"\";position: absolute;border-left: 1px solid gray;box-sizing: border-box;top: 0;bottom: 0;left: 50%;z-index: -1;}#sk-container-id-2 div.sk-parallel-item {display: flex;flex-direction: column;z-index: 1;position: relative;background-color: white;}#sk-container-id-2 div.sk-parallel-item:first-child::after {align-self: flex-end;width: 50%;}#sk-container-id-2 div.sk-parallel-item:last-child::after {align-self: flex-start;width: 50%;}#sk-container-id-2 div.sk-parallel-item:only-child::after {width: 0;}#sk-container-id-2 div.sk-dashed-wrapped {border: 1px dashed gray;margin: 0 0.4em 0.5em 0.4em;box-sizing: border-box;padding-bottom: 0.4em;background-color: white;}#sk-container-id-2 div.sk-label label {font-family: monospace;font-weight: bold;display: inline-block;line-height: 1.2em;}#sk-container-id-2 div.sk-label-container {text-align: center;}#sk-container-id-2 div.sk-container {/* jupyter's `normalize.less` sets `[hidden] { display: none; }` but bootstrap.min.css set `[hidden] { display: none !important; }` so we also need the `!important` here to be able to override the default hidden behavior on the sphinx rendered scikit-learn.org. See: https://github.com/scikit-learn/scikit-learn/issues/21755 */display: inline-block !important;position: relative;}#sk-container-id-2 div.sk-text-repr-fallback {display: none;}</style><div id=\"sk-container-id-2\" class=\"sk-top-container\"><div class=\"sk-text-repr-fallback\"><pre>LogisticRegression()</pre><b>In a Jupyter environment, please rerun this cell to show the HTML representation or trust the notebook. <br />On GitHub, the HTML representation is unable to render, please try loading this page with nbviewer.org.</b></div><div class=\"sk-container\" hidden><div class=\"sk-item\"><div class=\"sk-estimator sk-toggleable\"><input class=\"sk-toggleable__control sk-hidden--visually\" id=\"sk-estimator-id-2\" type=\"checkbox\" checked><label for=\"sk-estimator-id-2\" class=\"sk-toggleable__label sk-toggleable__label-arrow\">LogisticRegression</label><div class=\"sk-toggleable__content\"><pre>LogisticRegression()</pre></div></div></div></div></div>"
      ],
      "text/plain": [
       "LogisticRegression()"
      ]
     },
     "execution_count": 22,
     "metadata": {},
     "output_type": "execute_result"
    }
   ],
   "source": [
    "model.fit(X_train,y_train)"
   ]
  },
  {
   "cell_type": "code",
   "execution_count": 23,
   "id": "ebf5cc10",
   "metadata": {},
   "outputs": [
    {
     "data": {
      "text/plain": [
       "0.998180991359709"
      ]
     },
     "execution_count": 23,
     "metadata": {},
     "output_type": "execute_result"
    }
   ],
   "source": [
    "model.score(X_test,y_test)"
   ]
  },
  {
   "cell_type": "markdown",
   "id": "b664e200",
   "metadata": {},
   "source": [
    "| train | cv | test |\n",
    "|----------|----------|----------|\n",
    "| 0.9990900818926297 | 0.9990901048179921 | 0.998180991359709 |\n",
    "| 0.9990521686327067 | 0.9990521686327067 | 0.998180991359709 |\n"
   ]
  },
  {
   "cell_type": "markdown",
   "id": "f6e10a04",
   "metadata": {},
   "source": [
    "Method 2 prevents leakage.\n",
    "\n",
    "In Method 1, the imputer, one-hot encoder, and drop operations are performed on the entire dataset before splitting into training and testing sets. This can lead to data leakage because information from the testing set is used to transform the training set, which can cause the model to overfit and perform poorly on new data.\n",
    "\n",
    "In Method 2, the imputer and one-hot encoder are performed separately on each fold of the data during cross-validation. This ensures that the model is not influenced by information from the testing set during training and helps to prevent overfitting.\n",
    "\n",
    "The difference between the performance of Method 1 and Method 2 may not be large because the dataset used in the example may not contain a lot of missing values and categorical variables with many unique values. In such cases, the impact of data leakage may not be significant, and the performance difference between the two methods may not be large.\n"
   ]
  },
  {
   "cell_type": "code",
   "execution_count": 24,
   "id": "292e1493",
   "metadata": {},
   "outputs": [
    {
     "data": {
      "text/plain": [
       "'Implement both methods while scaling the data, and compare the performance of the two models. \\nThere may be a significant difference in performance between the two methods when the data is scaled.'"
      ]
     },
     "execution_count": 24,
     "metadata": {},
     "output_type": "execute_result"
    }
   ],
   "source": [
    "# to do\n",
    "\"\"\"Implement both methods while scaling the data, and compare the performance of the two models. \n",
    "There may be a significant difference in performance between the two methods when the data is scaled.\"\"\""
   ]
  },
  {
   "cell_type": "code",
   "execution_count": null,
   "id": "5db3130e",
   "metadata": {},
   "outputs": [],
   "source": []
  }
 ],
 "metadata": {
  "kernelspec": {
   "display_name": "Python 3 (ipykernel)",
   "language": "python",
   "name": "python3"
  },
  "language_info": {
   "codemirror_mode": {
    "name": "ipython",
    "version": 3
   },
   "file_extension": ".py",
   "mimetype": "text/x-python",
   "name": "python",
   "nbconvert_exporter": "python",
   "pygments_lexer": "ipython3",
   "version": "3.10.5"
  },
  "vp": {
   "vp_config_version": "1.0.0",
   "vp_menu_width": 273,
   "vp_note_display": false,
   "vp_note_width": 0,
   "vp_position": {
    "width": 278
   },
   "vp_section_display": false,
   "vp_signature": "VisualPython"
  }
 },
 "nbformat": 4,
 "nbformat_minor": 5
}
